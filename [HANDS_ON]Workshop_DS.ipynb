{
  "nbformat": 4,
  "nbformat_minor": 0,
  "metadata": {
    "colab": {
      "name": "[HANDS-ON]Workshop DS.ipynb",
      "provenance": [],
      "collapsed_sections": [
        "r_GdIlq71IKi",
        "rf01QsNYOh7z",
        "4jdcrtB4IhUs",
        "72KZlG0Ia--E",
        "rtAgsXVw65d9",
        "X5XWXGavbFHZ"
      ]
    },
    "kernelspec": {
      "name": "python3",
      "display_name": "Python 3"
    },
    "accelerator": "TPU"
  },
  "cells": [
    {
      "cell_type": "markdown",
      "metadata": {
        "id": "0Ed4EIEOOW2i",
        "colab_type": "text"
      },
      "source": [
        "# Apresentando Ferramentas - Hands On"
      ]
    },
    {
      "cell_type": "markdown",
      "metadata": {
        "id": "r_GdIlq71IKi",
        "colab_type": "text"
      },
      "source": [
        "## NumPy"
      ]
    },
    {
      "cell_type": "code",
      "metadata": {
        "id": "9MWdRGanOkjU",
        "colab_type": "code",
        "colab": {}
      },
      "source": [
        "# Crie um array numpy multidimensional com as seguintes listas:\n",
        "list_1 = [1, 2, 3, 4]\n",
        "list_2 = [-3, -8, 29, 0]\n",
        "list_3 = [10, 4, -1, 9000]\n",
        "\n",
        "# Insira seu código abaixo:\n"
      ],
      "execution_count": 0,
      "outputs": []
    },
    {
      "cell_type": "markdown",
      "metadata": {
        "id": "z17cYsRdP71Q",
        "colab_type": "text"
      },
      "source": [
        "*Dica*: Não esqueça de importar a biblioteca NumPy\n",
        "\n",
        "\n",
        "---\n",
        "\n"
      ]
    },
    {
      "cell_type": "code",
      "metadata": {
        "id": "XLtG4WHsPppH",
        "colab_type": "code",
        "colab": {}
      },
      "source": [
        "# Print as duas primeiras linhas e as três primeiras colunas do array NumPy criado acima:\n"
      ],
      "execution_count": 0,
      "outputs": []
    },
    {
      "cell_type": "markdown",
      "metadata": {
        "id": "0jgaTxLJQCa3",
        "colab_type": "text"
      },
      "source": [
        "*Dica:* Para iterar em um array NumPy:\n",
        "\n",
        "`my_array[ LINHAS , COLUNAS ]`\n",
        "\n",
        "\n",
        "---\n",
        "\n"
      ]
    },
    {
      "cell_type": "code",
      "metadata": {
        "id": "gUYp0gXfRB_W",
        "colab_type": "code",
        "colab": {}
      },
      "source": [
        "# Eleve array multidimensional NumPy ao quadrado:\n"
      ],
      "execution_count": 0,
      "outputs": []
    },
    {
      "cell_type": "markdown",
      "metadata": {
        "id": "rf01QsNYOh7z",
        "colab_type": "text"
      },
      "source": [
        "## pandas"
      ]
    },
    {
      "cell_type": "code",
      "metadata": {
        "id": "q7YzvQ_fOj-I",
        "colab_type": "code",
        "colab": {}
      },
      "source": [
        "# Leia o dataset \"adult.data\":\n",
        "\n",
        "col_names = [\"age\", \"workclass\", \"fnlwgt\", \"education\", \"education-num\",\n",
        "             \"marital-status\", \"occupation\", \"relationship\",\n",
        "             \"race\", \"sex\", \"capital-gain\", \"capital-loss\",\n",
        "             \"hours-per-week\", \"native-country\"]\n",
        "\n",
        "\n",
        "# Exiba as 10 PRIMEIRAS linhas do dataframe:\n"
      ],
      "execution_count": 0,
      "outputs": []
    },
    {
      "cell_type": "markdown",
      "metadata": {
        "id": "QC7OvcIaZcK4",
        "colab_type": "text"
      },
      "source": [
        "*Dica:* o método que exibe as primeiras linhas é o .head(). Não esqueça que ele têm parâmetro para exibir quantas linhas quiser.\n",
        "\n",
        "\n",
        "---\n",
        "\n"
      ]
    },
    {
      "cell_type": "code",
      "metadata": {
        "id": "CL9vFmpxZ_po",
        "colab_type": "code",
        "colab": {}
      },
      "source": [
        "# Mostre quantas pessoas do sexo masculino e feminino existem na base de dados:\n",
        "\n"
      ],
      "execution_count": 0,
      "outputs": []
    },
    {
      "cell_type": "markdown",
      "metadata": {
        "id": "4ahgta6UaKOo",
        "colab_type": "text"
      },
      "source": [
        "*Dica:* Para contabilizar os valores de uma coluna ou de um dataframe utilza-se o método: \n",
        "\n",
        "```\n",
        ".value_counts()\n",
        "```\n",
        "Lembre-se de utilizar o nome da coluna \"sex\".\n",
        "\n",
        "---\n",
        "\n"
      ]
    },
    {
      "cell_type": "markdown",
      "metadata": {
        "id": "t3yxLLkW_3Ct",
        "colab_type": "text"
      },
      "source": [
        "### Plotagem"
      ]
    },
    {
      "cell_type": "code",
      "metadata": {
        "id": "SlQe4Wp3_6Gv",
        "colab_type": "code",
        "colab": {}
      },
      "source": [
        "# Importe as bibliotecas necessárias para realizar a plotagem, assim como foi mostrado pelos instrutores\n",
        "\n",
        "\n",
        "\n"
      ],
      "execution_count": 0,
      "outputs": []
    },
    {
      "cell_type": "code",
      "metadata": {
        "id": "VMKCHZbcAGQo",
        "colab_type": "code",
        "colab": {}
      },
      "source": [
        "# Utilizando o Seaborn, e o dataset da atividade anterior plote um gráfico para observar \n",
        "# a quantidade de pessoas de cada sexo\n",
        "\n"
      ],
      "execution_count": 0,
      "outputs": []
    },
    {
      "cell_type": "code",
      "metadata": {
        "id": "IJ-1OiI1AWbn",
        "colab_type": "code",
        "colab": {}
      },
      "source": [
        "# Mostre o heatmap de correlação dos dados e observe quais estão mais correlacionados \n",
        "\n"
      ],
      "execution_count": 0,
      "outputs": []
    },
    {
      "cell_type": "markdown",
      "metadata": {
        "id": "4jdcrtB4IhUs",
        "colab_type": "text"
      },
      "source": [
        "# Exercício - KNN: \n",
        "\n",
        "###Utilize o dataset já disponibilizado para treinar e testar um modelo KNN.\n",
        "###Para facilitar, observe como foi feito pelos instrutores.\n",
        "\n",
        "###A tarefa é escolher o melhor valor de K para maximizar a acurácia do modelo.\n",
        "\n",
        "###Boa sorte!"
      ]
    },
    {
      "cell_type": "code",
      "metadata": {
        "id": "sXY1rX_vBxLE",
        "colab_type": "code",
        "cellView": "form",
        "colab": {}
      },
      "source": [
        "#@title Execute esta célula antes de seguir para a atividade. (Lembre-se de fazer upload do Dataset \"diabetes.csv\")\n",
        "\n",
        "import pandas as pd\n",
        "import numpy as np\n",
        "\n",
        "data = pd.read_csv('diabetes.csv')\n",
        "\n",
        "y = data.Outcome\n",
        "X = data.drop('Outcome', axis=1).replace(0,np.NaN)\n",
        "X.fillna(method='ffill', inplace=True)\n",
        "\n",
        "data = pd.concat([X, y], axis=1)\n",
        "data.dropna(inplace=True)"
      ],
      "execution_count": 0,
      "outputs": []
    },
    {
      "cell_type": "code",
      "metadata": {
        "id": "3azf1CHfJvEL",
        "colab_type": "code",
        "outputId": "82e6ee42-403c-4520-bfc1-d843e97fc329",
        "colab": {
          "base_uri": "https://localhost:8080/",
          "height": 204
        }
      },
      "source": [
        "data.head()"
      ],
      "execution_count": 0,
      "outputs": [
        {
          "output_type": "execute_result",
          "data": {
            "text/html": [
              "<div>\n",
              "<style scoped>\n",
              "    .dataframe tbody tr th:only-of-type {\n",
              "        vertical-align: middle;\n",
              "    }\n",
              "\n",
              "    .dataframe tbody tr th {\n",
              "        vertical-align: top;\n",
              "    }\n",
              "\n",
              "    .dataframe thead th {\n",
              "        text-align: right;\n",
              "    }\n",
              "</style>\n",
              "<table border=\"1\" class=\"dataframe\">\n",
              "  <thead>\n",
              "    <tr style=\"text-align: right;\">\n",
              "      <th></th>\n",
              "      <th>Pregnancies</th>\n",
              "      <th>Glucose</th>\n",
              "      <th>BloodPressure</th>\n",
              "      <th>SkinThickness</th>\n",
              "      <th>Insulin</th>\n",
              "      <th>BMI</th>\n",
              "      <th>DiabetesPedigreeFunction</th>\n",
              "      <th>Age</th>\n",
              "      <th>Outcome</th>\n",
              "    </tr>\n",
              "  </thead>\n",
              "  <tbody>\n",
              "    <tr>\n",
              "      <th>3</th>\n",
              "      <td>1.0</td>\n",
              "      <td>89.0</td>\n",
              "      <td>66.0</td>\n",
              "      <td>23.0</td>\n",
              "      <td>94.0</td>\n",
              "      <td>28.1</td>\n",
              "      <td>0.167</td>\n",
              "      <td>21</td>\n",
              "      <td>0</td>\n",
              "    </tr>\n",
              "    <tr>\n",
              "      <th>4</th>\n",
              "      <td>1.0</td>\n",
              "      <td>137.0</td>\n",
              "      <td>40.0</td>\n",
              "      <td>35.0</td>\n",
              "      <td>168.0</td>\n",
              "      <td>43.1</td>\n",
              "      <td>2.288</td>\n",
              "      <td>33</td>\n",
              "      <td>1</td>\n",
              "    </tr>\n",
              "    <tr>\n",
              "      <th>5</th>\n",
              "      <td>5.0</td>\n",
              "      <td>116.0</td>\n",
              "      <td>74.0</td>\n",
              "      <td>35.0</td>\n",
              "      <td>168.0</td>\n",
              "      <td>25.6</td>\n",
              "      <td>0.201</td>\n",
              "      <td>30</td>\n",
              "      <td>0</td>\n",
              "    </tr>\n",
              "    <tr>\n",
              "      <th>6</th>\n",
              "      <td>3.0</td>\n",
              "      <td>78.0</td>\n",
              "      <td>50.0</td>\n",
              "      <td>32.0</td>\n",
              "      <td>88.0</td>\n",
              "      <td>31.0</td>\n",
              "      <td>0.248</td>\n",
              "      <td>26</td>\n",
              "      <td>1</td>\n",
              "    </tr>\n",
              "    <tr>\n",
              "      <th>7</th>\n",
              "      <td>10.0</td>\n",
              "      <td>115.0</td>\n",
              "      <td>50.0</td>\n",
              "      <td>32.0</td>\n",
              "      <td>88.0</td>\n",
              "      <td>35.3</td>\n",
              "      <td>0.134</td>\n",
              "      <td>29</td>\n",
              "      <td>0</td>\n",
              "    </tr>\n",
              "  </tbody>\n",
              "</table>\n",
              "</div>"
            ],
            "text/plain": [
              "   Pregnancies  Glucose  BloodPressure  ...  DiabetesPedigreeFunction  Age  Outcome\n",
              "3          1.0     89.0           66.0  ...                     0.167   21        0\n",
              "4          1.0    137.0           40.0  ...                     2.288   33        1\n",
              "5          5.0    116.0           74.0  ...                     0.201   30        0\n",
              "6          3.0     78.0           50.0  ...                     0.248   26        1\n",
              "7         10.0    115.0           50.0  ...                     0.134   29        0\n",
              "\n",
              "[5 rows x 9 columns]"
            ]
          },
          "metadata": {
            "tags": []
          },
          "execution_count": 59
        }
      ]
    },
    {
      "cell_type": "code",
      "metadata": {
        "id": "mYhlj3UQJzOr",
        "colab_type": "code",
        "colab": {}
      },
      "source": [
        ""
      ],
      "execution_count": 0,
      "outputs": []
    },
    {
      "cell_type": "markdown",
      "metadata": {
        "id": "72KZlG0Ia--E",
        "colab_type": "text"
      },
      "source": [
        "# Tratamento de Dados - Hands On"
      ]
    },
    {
      "cell_type": "markdown",
      "metadata": {
        "id": "rtAgsXVw65d9",
        "colab_type": "text"
      },
      "source": [
        "## Dados faltando"
      ]
    },
    {
      "cell_type": "code",
      "metadata": {
        "id": "Q_zu-DIfbFAP",
        "colab_type": "code",
        "colab": {}
      },
      "source": [
        "# Identifique quais colunas além da \"workclass\" também possuem dados faltantes:\n",
        "\n",
        "\n",
        "# Após identificar, atribua aos dados faltantes o valor categórico que mais apareceu:\n",
        "\n"
      ],
      "execution_count": 0,
      "outputs": []
    },
    {
      "cell_type": "markdown",
      "metadata": {
        "id": "X5XWXGavbFHZ",
        "colab_type": "text"
      },
      "source": [
        "## Dados Categóricos"
      ]
    },
    {
      "cell_type": "code",
      "metadata": {
        "id": "mjuZrlCqbKNU",
        "colab_type": "code",
        "colab": {}
      },
      "source": [
        "# Assim como no exemplo mostrado, transforme as colunas utilizando o Binary Encoder\n",
        "\n",
        "cols = ['workclass', 'education', 'marital-status', 'occupation', 'relationship', 'race', 'sex', 'native-country']\n",
        "\n",
        "binary_encoder = ce.BinaryEncoder(cols=cols, drop_invariant=True)\n",
        "\n",
        "# Quantas colunas têm o novo dataframe ?\n"
      ],
      "execution_count": 0,
      "outputs": []
    },
    {
      "cell_type": "markdown",
      "metadata": {
        "id": "f_CMvM8vboBd",
        "colab_type": "text"
      },
      "source": [
        "*Dica:* Utilize o atributo shape:\n",
        "\n",
        "\n",
        "```\n",
        "dataframe.shape\n",
        "```\n",
        "---\n"
      ]
    }
  ]
}