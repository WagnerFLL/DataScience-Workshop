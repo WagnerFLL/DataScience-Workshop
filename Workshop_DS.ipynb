{
  "nbformat": 4,
  "nbformat_minor": 0,
  "metadata": {
    "colab": {
      "name": "Workshop DS.ipynb",
      "provenance": [],
      "collapsed_sections": [
        "Euc412S5HIpD",
        "o036gIS-1iW3",
        "VZ2reiPaK74C",
        "eoPZt2nab4dC",
        "jJK5HSB3UUo0",
        "OgQgCIxcy1TN",
        "WcSKBkYEdROv",
        "zHPeaFITjyHe",
        "gyzlNUR_6E8g",
        "Hb8pvc9c7EHK",
        "n8Qgp_W_IeQ1",
        "FMl-I0s0Ii0A",
        "MzHdw0r6Bvhy",
        "9MdojJaiK-wD"
      ]
    },
    "kernelspec": {
      "name": "python3",
      "display_name": "Python 3"
    },
    "accelerator": "TPU"
  },
  "cells": [
    {
      "cell_type": "markdown",
      "metadata": {
        "id": "Euc412S5HIpD",
        "colab_type": "text"
      },
      "source": [
        "# Apresentando Ferramentas"
      ]
    },
    {
      "cell_type": "markdown",
      "metadata": {
        "id": "o036gIS-1iW3",
        "colab_type": "text"
      },
      "source": [
        "## NumPy"
      ]
    },
    {
      "cell_type": "markdown",
      "metadata": {
        "id": "luNmVX0WykdQ",
        "colab_type": "text"
      },
      "source": [
        "### Arrays Unidimensionais"
      ]
    },
    {
      "cell_type": "code",
      "metadata": {
        "id": "pCZklVfmHVQ4",
        "colab_type": "code",
        "outputId": "36dcbb20-21b4-42ab-f079-b3fe237f1ef2",
        "colab": {
          "base_uri": "https://localhost:8080/",
          "height": 34
        }
      },
      "source": [
        "# Importando a biblioteca\n",
        "import numpy as np\n",
        "\n",
        "# Criando array numpy de uma lista Python\n",
        "my_array = np.array([1, 2, 3, 4, 5])\n",
        "\n",
        "print(my_array)"
      ],
      "execution_count": 0,
      "outputs": [
        {
          "output_type": "stream",
          "text": [
            "[1 2 3 4 5]\n"
          ],
          "name": "stdout"
        }
      ]
    },
    {
      "cell_type": "code",
      "metadata": {
        "id": "jaf9qYzmIiRs",
        "colab_type": "code",
        "outputId": "aefc0cb8-e189-46bb-ed42-efd6c760f19c",
        "colab": {
          "base_uri": "https://localhost:8080/",
          "height": 34
        }
      },
      "source": [
        "# Mudando posição do array numpy\n",
        "my_array[0] = -1 \n",
        "print(my_array)"
      ],
      "execution_count": 0,
      "outputs": [
        {
          "output_type": "stream",
          "text": [
            "[-1  2  3  4  5]\n"
          ],
          "name": "stdout"
        }
      ]
    },
    {
      "cell_type": "code",
      "metadata": {
        "id": "bAryNixkI2et",
        "colab_type": "code",
        "outputId": "7a70550e-3b15-450d-934c-35ca7d14a22c",
        "colab": {
          "base_uri": "https://localhost:8080/",
          "height": 34
        }
      },
      "source": [
        "# Criando array numpy com números aleatórios:\n",
        "my_random_array = np.random.random((5)) \n",
        "print(my_random_array)"
      ],
      "execution_count": 0,
      "outputs": [
        {
          "output_type": "stream",
          "text": [
            "[0.44564036 0.21375214 0.63353241 0.43013967 0.14066866]\n"
          ],
          "name": "stdout"
        }
      ]
    },
    {
      "cell_type": "code",
      "metadata": {
        "id": "YmjdEz6_JMTT",
        "colab_type": "code",
        "outputId": "83c49a64-8993-48eb-a9f3-f40232315374",
        "colab": {
          "base_uri": "https://localhost:8080/",
          "height": 50
        }
      },
      "source": [
        "# Iterando por um array numpy:\n",
        "my_array2 = np.array([3, 2, 8, 22, 127]) \n",
        "\n",
        "print(my_array2[:])\n",
        "print(my_array2[2:4])"
      ],
      "execution_count": 0,
      "outputs": [
        {
          "output_type": "stream",
          "text": [
            "[  3   2   8  22 127]\n",
            "[ 8 22]\n"
          ],
          "name": "stdout"
        }
      ]
    },
    {
      "cell_type": "markdown",
      "metadata": {
        "id": "VZ2reiPaK74C",
        "colab_type": "text"
      },
      "source": [
        "### Arrays Multidimensionais"
      ]
    },
    {
      "cell_type": "code",
      "metadata": {
        "id": "xejKKukvbwOi",
        "colab_type": "code",
        "outputId": "3c8eb15e-b319-4e4f-8bdb-bf9ecfa49e99",
        "colab": {
          "base_uri": "https://localhost:8080/",
          "height": 50
        }
      },
      "source": [
        "# Criando array de duas listas:\n",
        "my_array = np.array([[4, 5, 6], [7, 1, 2]])\n",
        "\n",
        "print(my_array)"
      ],
      "execution_count": 0,
      "outputs": [
        {
          "output_type": "stream",
          "text": [
            "[[4 5 6]\n",
            " [7 1 2]]\n"
          ],
          "name": "stdout"
        }
      ]
    },
    {
      "cell_type": "code",
      "metadata": {
        "id": "WdVtTSrhK-WJ",
        "colab_type": "code",
        "outputId": "99e1eb0a-2524-44b4-bb09-40bca8def4f0",
        "colab": {
          "base_uri": "https://localhost:8080/",
          "height": 50
        }
      },
      "source": [
        "# Array de 2 linhas e 3 colunas preenchidas com zeros:\n",
        "my_array3 = np.zeros((2, 3))\n",
        "\n",
        "print(my_array3)"
      ],
      "execution_count": 0,
      "outputs": [
        {
          "output_type": "stream",
          "text": [
            "[[0. 0. 0.]\n",
            " [0. 0. 0.]]\n"
          ],
          "name": "stdout"
        }
      ]
    },
    {
      "cell_type": "code",
      "metadata": {
        "id": "gub2mo89bETX",
        "colab_type": "code",
        "outputId": "a7e9623c-d9c8-406a-a2fb-1d9f9424bf81",
        "colab": {
          "base_uri": "https://localhost:8080/",
          "height": 34
        }
      },
      "source": [
        "# Formato do seu array numpy:\n",
        "print(my_array3.shape)"
      ],
      "execution_count": 0,
      "outputs": [
        {
          "output_type": "stream",
          "text": [
            "(2, 3)\n"
          ],
          "name": "stdout"
        }
      ]
    },
    {
      "cell_type": "code",
      "metadata": {
        "id": "PxlBEQSqbQEJ",
        "colab_type": "code",
        "outputId": "ee80c3a9-3b00-49b3-e8c5-67ee474efa31",
        "colab": {
          "base_uri": "https://localhost:8080/",
          "height": 34
        }
      },
      "source": [
        "# Iterando por um array numpy N dimensional:\n",
        "my_array_column_2 = my_array[:, 1]\n",
        "print(my_array_column_2)"
      ],
      "execution_count": 0,
      "outputs": [
        {
          "output_type": "stream",
          "text": [
            "[5 1]\n"
          ],
          "name": "stdout"
        }
      ]
    },
    {
      "cell_type": "markdown",
      "metadata": {
        "id": "eoPZt2nab4dC",
        "colab_type": "text"
      },
      "source": [
        "### Manipulando Arrays NumPy"
      ]
    },
    {
      "cell_type": "code",
      "metadata": {
        "id": "wz1WXOQ9b79b",
        "colab_type": "code",
        "outputId": "93f2400e-0521-45a6-fd00-9717d62dfadb",
        "colab": {
          "base_uri": "https://localhost:8080/",
          "height": 319
        }
      },
      "source": [
        "a = np.array([[1.0, 2.0], [3.0, 4.0]])\n",
        "b = np.array([[5.0, 6.0], [7.0, 8.0]])\n",
        "\n",
        "soma = a + b # Soma\n",
        "diferenca = a - b # Subtração\n",
        "produto = a * b # Multiplicação\n",
        "div = a / b # Divisão\n",
        "\n",
        "print('Soma = \\n', + soma)\n",
        "print('\\n')\n",
        "print('Diferença = \\n', + diferenca)\n",
        "print('\\n')\n",
        "print('Produto = \\n', + produto)\n",
        "print('\\n')\n",
        "print('Divisão = \\n', + div)"
      ],
      "execution_count": 0,
      "outputs": [
        {
          "output_type": "stream",
          "text": [
            "Soma = \n",
            " [[ 6.  8.]\n",
            " [10. 12.]]\n",
            "\n",
            "\n",
            "Diferença = \n",
            " [[-4. -4.]\n",
            " [-4. -4.]]\n",
            "\n",
            "\n",
            "Produto = \n",
            " [[ 5. 12.]\n",
            " [21. 32.]]\n",
            "\n",
            "\n",
            "Divisão = \n",
            " [[0.2        0.33333333]\n",
            " [0.42857143 0.5       ]]\n"
          ],
          "name": "stdout"
        }
      ]
    },
    {
      "cell_type": "markdown",
      "metadata": {
        "id": "-N_gMOyEd3km",
        "colab_type": "text"
      },
      "source": [
        "## Pandas\n",
        "\n",
        "### Series"
      ]
    },
    {
      "cell_type": "code",
      "metadata": {
        "id": "fq3cFQQkd5bV",
        "colab_type": "code",
        "outputId": "917baec6-731c-40f9-ca7d-b3a1a2606b7e",
        "colab": {
          "base_uri": "https://localhost:8080/",
          "height": 118
        }
      },
      "source": [
        "import pandas as pd\n",
        "import numpy as np\n",
        "\n",
        "# Exemplos de Series (arrays unidimensionais):\n",
        "\n",
        "notas = pd.Series([2, 7, , 10, 6])\n",
        "notas"
      ],
      "execution_count": 0,
      "outputs": [
        {
          "output_type": "execute_result",
          "data": {
            "text/plain": [
              "0     2\n",
              "1     7\n",
              "2     5\n",
              "3    10\n",
              "4     6\n",
              "dtype: int64"
            ]
          },
          "metadata": {
            "tags": []
          },
          "execution_count": 12
        }
      ]
    },
    {
      "cell_type": "code",
      "metadata": {
        "id": "gKxMu1epmlxV",
        "colab_type": "code",
        "outputId": "e6a8e239-44db-4106-ed2a-57269a74b51e",
        "colab": {
          "base_uri": "https://localhost:8080/",
          "height": 34
        }
      },
      "source": [
        "# Indices criados automaticamente pelo pandas:\n",
        "\n",
        "notas.index"
      ],
      "execution_count": 0,
      "outputs": [
        {
          "output_type": "execute_result",
          "data": {
            "text/plain": [
              "RangeIndex(start=0, stop=5, step=1)"
            ]
          },
          "metadata": {
            "tags": []
          },
          "execution_count": 13
        }
      ]
    },
    {
      "cell_type": "code",
      "metadata": {
        "id": "lVxaD1VSmjDY",
        "colab_type": "code",
        "outputId": "c56be3e3-926b-4067-dc79-fff855d11925",
        "colab": {
          "base_uri": "https://localhost:8080/",
          "height": 118
        }
      },
      "source": [
        "# Adicionando índices:\n",
        "\n",
        "notas = pd.Series([10, 2, 7, 9, 6], index=[\"França\", \"Wagner\", \"José\", \"Maria\", \"João\"])\n",
        "notas"
      ],
      "execution_count": 0,
      "outputs": [
        {
          "output_type": "execute_result",
          "data": {
            "text/plain": [
              "França    10\n",
              "Wagner     2\n",
              "José       7\n",
              "Maria      9\n",
              "João       6\n",
              "dtype: int64"
            ]
          },
          "metadata": {
            "tags": []
          },
          "execution_count": 14
        }
      ]
    },
    {
      "cell_type": "code",
      "metadata": {
        "id": "CTbRgRCKm73i",
        "colab_type": "code",
        "outputId": "4bfaa46e-d930-47e9-f005-9af3f5fbe07d",
        "colab": {
          "base_uri": "https://localhost:8080/",
          "height": 34
        }
      },
      "source": [
        "# Acessar notas pelo índice. \"França\" por exemplo:\n",
        "notas[\"França\"]"
      ],
      "execution_count": 0,
      "outputs": [
        {
          "output_type": "execute_result",
          "data": {
            "text/plain": [
              "10"
            ]
          },
          "metadata": {
            "tags": []
          },
          "execution_count": 15
        }
      ]
    },
    {
      "cell_type": "markdown",
      "metadata": {
        "id": "4ZekW_HhniBV",
        "colab_type": "text"
      },
      "source": [
        "### Estatística (Jogo rápido)\n",
        "\n",
        "### - Média e Mediana\n",
        "\n",
        "---\n",
        "### - Desvio Padrão\n",
        "\n",
        "![alt text](https://n.i.uol.com.br/licaodecasa/ensmedio/matematica/estat4.jpg)\n",
        "\n",
        "\n",
        "---\n",
        "\n",
        "### - Quartis\n",
        "\n",
        "![alt text](https://image.slidesharecdn.com/estatistica-resumo-161204104912/95/estatistica-resumo-50-638.jpg?cb=1480853404)"
      ]
    },
    {
      "cell_type": "code",
      "metadata": {
        "id": "d5k9o6qKsfUH",
        "colab_type": "code",
        "outputId": "9adb5f5b-0639-4f42-b365-a3cf499a2b10",
        "colab": {
          "base_uri": "https://localhost:8080/",
          "height": 50
        }
      },
      "source": [
        "# Utilizando .mean() para ver a média da amostra (notas) \n",
        "print(\"Média: \", notas.mean())\n",
        "# Utilizando .std() para ver o desvio padrão da amostra (notas)\n",
        "print(\"Desvio padrão: \", notas.std())"
      ],
      "execution_count": 0,
      "outputs": [
        {
          "output_type": "stream",
          "text": [
            "Média:  6.8\n",
            "Desvio padrão:  3.1144823004794877\n"
          ],
          "name": "stdout"
        }
      ]
    },
    {
      "cell_type": "code",
      "metadata": {
        "id": "2Md6SKjEsyPx",
        "colab_type": "code",
        "outputId": "807a4fda-23c5-466d-da8f-d03f5985c3aa",
        "colab": {
          "base_uri": "https://localhost:8080/",
          "height": 168
        }
      },
      "source": [
        "# Para resumir toda sua distribuição, utiliza-se .describe()\n",
        "notas.describe()"
      ],
      "execution_count": 0,
      "outputs": [
        {
          "output_type": "execute_result",
          "data": {
            "text/plain": [
              "count     5.000000\n",
              "mean      6.800000\n",
              "std       3.114482\n",
              "min       2.000000\n",
              "25%       6.000000\n",
              "50%       7.000000\n",
              "75%       9.000000\n",
              "max      10.000000\n",
              "dtype: float64"
            ]
          },
          "metadata": {
            "tags": []
          },
          "execution_count": 17
        }
      ]
    },
    {
      "cell_type": "code",
      "metadata": {
        "id": "m4YyxRYttYqA",
        "colab_type": "code",
        "outputId": "7a03f07f-c7da-4726-8b29-8ac6de9c20be",
        "colab": {
          "base_uri": "https://localhost:8080/",
          "height": 118
        }
      },
      "source": [
        "#Também é possível realizar expressôes matemáticas na estrutura do pandas:\n",
        "notas**2\n",
        "\n",
        "# Utilizando np.log():\n",
        "np.log(notas)"
      ],
      "execution_count": 0,
      "outputs": [
        {
          "output_type": "execute_result",
          "data": {
            "text/plain": [
              "França    2.302585\n",
              "Wagner    0.693147\n",
              "José      1.945910\n",
              "Maria     2.197225\n",
              "João      1.791759\n",
              "dtype: float64"
            ]
          },
          "metadata": {
            "tags": []
          },
          "execution_count": 19
        }
      ]
    },
    {
      "cell_type": "markdown",
      "metadata": {
        "id": "d1e2gF7VuTMr",
        "colab_type": "text"
      },
      "source": [
        "### DataFrame\n",
        "\n",
        "É uma estrutura bidimensional, como uma tabela."
      ]
    },
    {
      "cell_type": "code",
      "metadata": {
        "id": "PYx39EQNuiaq",
        "colab_type": "code",
        "outputId": "20d5d6ac-0021-48fb-8b51-492131ef9048",
        "colab": {
          "base_uri": "https://localhost:8080/",
          "height": 195
        }
      },
      "source": [
        "# Criando DataFrame de um dict do Python:\n",
        "\n",
        "df = pd.DataFrame({'Aluno' : [\"França\", \"Wagner\", \"José\", \"Maria\", \"João\"],\n",
        "                   'Faltas' : [0, 10, 2, 3, 4],\n",
        "                   'Prova 1' : [10, 2, 7, 9, 6],\n",
        "                   'Prova 2': [9.0, 7.5, 8.3, 6.5, 8.0]})\n",
        "df"
      ],
      "execution_count": 0,
      "outputs": [
        {
          "output_type": "execute_result",
          "data": {
            "text/html": [
              "<div>\n",
              "<style scoped>\n",
              "    .dataframe tbody tr th:only-of-type {\n",
              "        vertical-align: middle;\n",
              "    }\n",
              "\n",
              "    .dataframe tbody tr th {\n",
              "        vertical-align: top;\n",
              "    }\n",
              "\n",
              "    .dataframe thead th {\n",
              "        text-align: right;\n",
              "    }\n",
              "</style>\n",
              "<table border=\"1\" class=\"dataframe\">\n",
              "  <thead>\n",
              "    <tr style=\"text-align: right;\">\n",
              "      <th></th>\n",
              "      <th>Aluno</th>\n",
              "      <th>Faltas</th>\n",
              "      <th>Prova 1</th>\n",
              "      <th>Prova 2</th>\n",
              "    </tr>\n",
              "  </thead>\n",
              "  <tbody>\n",
              "    <tr>\n",
              "      <th>0</th>\n",
              "      <td>França</td>\n",
              "      <td>0</td>\n",
              "      <td>10</td>\n",
              "      <td>9.0</td>\n",
              "    </tr>\n",
              "    <tr>\n",
              "      <th>1</th>\n",
              "      <td>Wagner</td>\n",
              "      <td>10</td>\n",
              "      <td>2</td>\n",
              "      <td>7.5</td>\n",
              "    </tr>\n",
              "    <tr>\n",
              "      <th>2</th>\n",
              "      <td>José</td>\n",
              "      <td>2</td>\n",
              "      <td>7</td>\n",
              "      <td>8.3</td>\n",
              "    </tr>\n",
              "    <tr>\n",
              "      <th>3</th>\n",
              "      <td>Maria</td>\n",
              "      <td>3</td>\n",
              "      <td>9</td>\n",
              "      <td>6.5</td>\n",
              "    </tr>\n",
              "    <tr>\n",
              "      <th>4</th>\n",
              "      <td>João</td>\n",
              "      <td>4</td>\n",
              "      <td>6</td>\n",
              "      <td>8.0</td>\n",
              "    </tr>\n",
              "  </tbody>\n",
              "</table>\n",
              "</div>"
            ],
            "text/plain": [
              "    Aluno  Faltas  Prova 1  Prova 2\n",
              "0  França       0       10      9.0\n",
              "1  Wagner      10        2      7.5\n",
              "2    José       2        7      8.3\n",
              "3   Maria       3        9      6.5\n",
              "4    João       4        6      8.0"
            ]
          },
          "metadata": {
            "tags": []
          },
          "execution_count": 20
        }
      ]
    },
    {
      "cell_type": "code",
      "metadata": {
        "id": "SBZQa4sZwtDP",
        "colab_type": "code",
        "outputId": "45c98842-dc6d-4867-e11c-6b4eadfa87a8",
        "colab": {
          "base_uri": "https://localhost:8080/",
          "height": 101
        }
      },
      "source": [
        "# Sempre importante checar os tipos das colunas com .dtypes\n",
        "df.dtypes\n",
        "# É possível checar o nome de todas as colunas com .columns"
      ],
      "execution_count": 0,
      "outputs": [
        {
          "output_type": "execute_result",
          "data": {
            "text/plain": [
              "Aluno       object\n",
              "Faltas       int64\n",
              "Prova 1      int64\n",
              "Prova 2    float64\n",
              "dtype: object"
            ]
          },
          "metadata": {
            "tags": []
          },
          "execution_count": 21
        }
      ]
    },
    {
      "cell_type": "code",
      "metadata": {
        "id": "jTIJ-uwWw9Nh",
        "colab_type": "code",
        "outputId": "f265c7df-9fd1-4eab-ad74-bf95e51b2e73",
        "colab": {
          "base_uri": "https://localhost:8080/",
          "height": 118
        }
      },
      "source": [
        "# Também é possível acessar os dados da coluna pelo nome:\n",
        "df[\"Prova 1\"]"
      ],
      "execution_count": 0,
      "outputs": [
        {
          "output_type": "execute_result",
          "data": {
            "text/plain": [
              "0    10\n",
              "1     2\n",
              "2     7\n",
              "3     9\n",
              "4     6\n",
              "Name: Prova 1, dtype: int64"
            ]
          },
          "metadata": {
            "tags": []
          },
          "execution_count": 22
        }
      ]
    },
    {
      "cell_type": "code",
      "metadata": {
        "id": "mwHkSmVlwz1H",
        "colab_type": "code",
        "outputId": "d576cc07-087c-49a0-8339-84d67c88a473",
        "colab": {
          "base_uri": "https://localhost:8080/",
          "height": 195
        }
      },
      "source": [
        "# Ordenar os valores por uma coluna:\n",
        "df.sort_values(by=\"Prova 1\")"
      ],
      "execution_count": 0,
      "outputs": [
        {
          "output_type": "execute_result",
          "data": {
            "text/html": [
              "<div>\n",
              "<style scoped>\n",
              "    .dataframe tbody tr th:only-of-type {\n",
              "        vertical-align: middle;\n",
              "    }\n",
              "\n",
              "    .dataframe tbody tr th {\n",
              "        vertical-align: top;\n",
              "    }\n",
              "\n",
              "    .dataframe thead th {\n",
              "        text-align: right;\n",
              "    }\n",
              "</style>\n",
              "<table border=\"1\" class=\"dataframe\">\n",
              "  <thead>\n",
              "    <tr style=\"text-align: right;\">\n",
              "      <th></th>\n",
              "      <th>Aluno</th>\n",
              "      <th>Faltas</th>\n",
              "      <th>Prova 1</th>\n",
              "      <th>Prova 2</th>\n",
              "    </tr>\n",
              "  </thead>\n",
              "  <tbody>\n",
              "    <tr>\n",
              "      <th>1</th>\n",
              "      <td>Wagner</td>\n",
              "      <td>10</td>\n",
              "      <td>2</td>\n",
              "      <td>7.5</td>\n",
              "    </tr>\n",
              "    <tr>\n",
              "      <th>4</th>\n",
              "      <td>João</td>\n",
              "      <td>4</td>\n",
              "      <td>6</td>\n",
              "      <td>8.0</td>\n",
              "    </tr>\n",
              "    <tr>\n",
              "      <th>2</th>\n",
              "      <td>José</td>\n",
              "      <td>2</td>\n",
              "      <td>7</td>\n",
              "      <td>8.3</td>\n",
              "    </tr>\n",
              "    <tr>\n",
              "      <th>3</th>\n",
              "      <td>Maria</td>\n",
              "      <td>3</td>\n",
              "      <td>9</td>\n",
              "      <td>6.5</td>\n",
              "    </tr>\n",
              "    <tr>\n",
              "      <th>0</th>\n",
              "      <td>França</td>\n",
              "      <td>0</td>\n",
              "      <td>10</td>\n",
              "      <td>9.0</td>\n",
              "    </tr>\n",
              "  </tbody>\n",
              "</table>\n",
              "</div>"
            ],
            "text/plain": [
              "    Aluno  Faltas  Prova 1  Prova 2\n",
              "1  Wagner      10        2      7.5\n",
              "4    João       4        6      8.0\n",
              "2    José       2        7      8.3\n",
              "3   Maria       3        9      6.5\n",
              "0  França       0       10      9.0"
            ]
          },
          "metadata": {
            "tags": []
          },
          "execution_count": 23
        }
      ]
    },
    {
      "cell_type": "markdown",
      "metadata": {
        "id": "Qx9S2yWNxbu7",
        "colab_type": "text"
      },
      "source": [
        "#### Selecionando linhas:"
      ]
    },
    {
      "cell_type": "code",
      "metadata": {
        "id": "Cl68aNwixewL",
        "colab_type": "code",
        "outputId": "6e043dc7-1c47-4682-8646-909912baf814",
        "colab": {
          "base_uri": "https://localhost:8080/",
          "height": 106
        }
      },
      "source": [
        "df.loc[3]\n",
        "\n",
        "# Selecionando com condições (Boolean Indexing):\n",
        "condition = df[\"Prova 1\"] > 8.0\n",
        "df[condition]\n",
        "\n",
        "# Com múltiplas condições:\n",
        "df[(df[\"Prova 1\"] > 8.0) & (df[\"Prova 2\"] > 6.0)]\n",
        "\n",
        "# OBS: Não se utiliza 'and', 'or' ou 'not' como em Python.\n",
        "# Utiliza-se '&', '|' e '~'."
      ],
      "execution_count": 0,
      "outputs": [
        {
          "output_type": "execute_result",
          "data": {
            "text/html": [
              "<div>\n",
              "<style scoped>\n",
              "    .dataframe tbody tr th:only-of-type {\n",
              "        vertical-align: middle;\n",
              "    }\n",
              "\n",
              "    .dataframe tbody tr th {\n",
              "        vertical-align: top;\n",
              "    }\n",
              "\n",
              "    .dataframe thead th {\n",
              "        text-align: right;\n",
              "    }\n",
              "</style>\n",
              "<table border=\"1\" class=\"dataframe\">\n",
              "  <thead>\n",
              "    <tr style=\"text-align: right;\">\n",
              "      <th></th>\n",
              "      <th>Aluno</th>\n",
              "      <th>Faltas</th>\n",
              "      <th>Prova 1</th>\n",
              "      <th>Prova 2</th>\n",
              "    </tr>\n",
              "  </thead>\n",
              "  <tbody>\n",
              "    <tr>\n",
              "      <th>0</th>\n",
              "      <td>França</td>\n",
              "      <td>0</td>\n",
              "      <td>10</td>\n",
              "      <td>9.0</td>\n",
              "    </tr>\n",
              "    <tr>\n",
              "      <th>3</th>\n",
              "      <td>Maria</td>\n",
              "      <td>3</td>\n",
              "      <td>9</td>\n",
              "      <td>6.5</td>\n",
              "    </tr>\n",
              "  </tbody>\n",
              "</table>\n",
              "</div>"
            ],
            "text/plain": [
              "    Aluno  Faltas  Prova 1  Prova 2\n",
              "0  França       0       10      9.0\n",
              "3   Maria       3        9      6.5"
            ]
          },
          "metadata": {
            "tags": []
          },
          "execution_count": 27
        }
      ]
    },
    {
      "cell_type": "markdown",
      "metadata": {
        "id": "POuwUVcMyWCZ",
        "colab_type": "text"
      },
      "source": [
        "#### Leitura de dados e manipulação de grandes dados"
      ]
    },
    {
      "cell_type": "code",
      "metadata": {
        "id": "4M0lBkYPyYZk",
        "colab_type": "code",
        "outputId": "ba886e00-dea1-41b1-b974-c97c6e09cf6d",
        "colab": {
          "base_uri": "https://localhost:8080/",
          "height": 118
        }
      },
      "source": [
        "# Ler dados de um arquivo .csv:\n",
        "data = pd.read_csv(\"adult.data\", header=None, index_col=False, names = [\"age\", \"workclass\", \"fnlwgt\", \"education\", \"education-num\",\n",
        "                                          \"marital-status\", \"occupation\", \"relationship\",\n",
        "                                          \"race\", \"sex\", \"capital-gain\", \"capital-loss\",\n",
        "                                          \"hours-per-week\", \"native-country\"])\n",
        "\n",
        "# Mostrar os 5 primeiros do DataFrame:\n",
        "data.head(n=5)\n",
        "\n",
        "# Mostrar os 5 últimos do DataFrame:\n",
        "data.tail()\n",
        "\n",
        "# Mostrar o formato (linhas X colunas) do DataFrame com .shape:\n",
        "data.shape\n",
        "# Mostrar todas as colunas do DataFrame:\n",
        "data.columns\n",
        "\n",
        "# Mostrar uma lista do valores únicos de uma coluna:\n",
        "data['race'].unique()\n",
        "\n",
        "# Contar os valores de cada coluna:\n",
        "data[\"race\"].value_counts()"
      ],
      "execution_count": 0,
      "outputs": [
        {
          "output_type": "execute_result",
          "data": {
            "text/plain": [
              " White                 27816\n",
              " Black                  3124\n",
              " Asian-Pac-Islander     1039\n",
              " Amer-Indian-Eskimo      311\n",
              " Other                   271\n",
              "Name: race, dtype: int64"
            ]
          },
          "metadata": {
            "tags": []
          },
          "execution_count": 37
        }
      ]
    },
    {
      "cell_type": "markdown",
      "metadata": {
        "id": "jJK5HSB3UUo0",
        "colab_type": "text"
      },
      "source": [
        "# Plotagem\n"
      ]
    },
    {
      "cell_type": "code",
      "metadata": {
        "id": "BgFFAETweg4m",
        "colab_type": "code",
        "colab": {}
      },
      "source": [
        "import warnings\n",
        "warnings.filterwarnings(\"ignore\")"
      ],
      "execution_count": 0,
      "outputs": []
    },
    {
      "cell_type": "code",
      "metadata": {
        "id": "9uGbYeBDdYaz",
        "colab_type": "code",
        "colab": {}
      },
      "source": [
        "# Importando as bibliotecas\n",
        "import pandas as pd\n",
        "import matplotlib.pyplot as plt\n",
        "%matplotlib inline\n",
        "import seaborn as sns"
      ],
      "execution_count": 0,
      "outputs": []
    },
    {
      "cell_type": "markdown",
      "metadata": {
        "id": "OgQgCIxcy1TN",
        "colab_type": "text"
      },
      "source": [
        "### Iris Dataset\n",
        "![alt text](https://s3.amazonaws.com/assets.datacamp.com/blog_assets/Machine+Learning+R/iris-machinelearning.png)"
      ]
    },
    {
      "cell_type": "code",
      "metadata": {
        "id": "EECdaoFZdZQn",
        "colab_type": "code",
        "colab": {}
      },
      "source": [
        "# Importando o conjunto de dados\n",
        "from sklearn.datasets import load_iris\n",
        "iris = load_iris()\n",
        "data = pd.DataFrame(iris.data, columns=iris.feature_names)\n",
        "data['Species'] = pd.Series(iris.target)"
      ],
      "execution_count": 0,
      "outputs": []
    },
    {
      "cell_type": "code",
      "metadata": {
        "id": "2q8-sc8kmiqo",
        "colab_type": "code",
        "outputId": "e16501b0-4e12-4a0d-b524-7326e45ad7d7",
        "colab": {
          "base_uri": "https://localhost:8080/",
          "height": 300
        }
      },
      "source": [
        "# Plot: countplot em barras, n° de ocorrências de cada espécie\n",
        "sns.countplot(x=\"Species\", data=data)"
      ],
      "execution_count": 0,
      "outputs": [
        {
          "output_type": "execute_result",
          "data": {
            "text/plain": [
              "<matplotlib.axes._subplots.AxesSubplot at 0x7fee3b4e6860>"
            ]
          },
          "metadata": {
            "tags": []
          },
          "execution_count": 48
        },
        {
          "output_type": "display_data",
          "data": {
            "image/png": "[encoded data removed]",
            "text/plain": [
              "<Figure size 432x288 with 1 Axes>"
            ]
          },
          "metadata": {
            "tags": []
          }
        }
      ]
    },
    {
      "cell_type": "code",
      "metadata": {
        "id": "zpghipCXeuBM",
        "colab_type": "code",
        "outputId": "d4f1e1f5-eec7-4aca-e33a-3f3bb5a072c7",
        "colab": {
          "base_uri": "https://localhost:8080/",
          "height": 300
        }
      },
      "source": [
        "# Plot: diagrama de caixa \n",
        "sns.boxplot(x='Species',y='petal length (cm)',data=data)"
      ],
      "execution_count": 0,
      "outputs": [
        {
          "output_type": "execute_result",
          "data": {
            "text/plain": [
              "<matplotlib.axes._subplots.AxesSubplot at 0x7fee3b555518>"
            ]
          },
          "metadata": {
            "tags": []
          },
          "execution_count": 46
        },
        {
          "output_type": "display_data",
          "data": {
            "image/png": "[encoded data removed]",
            "text/plain": [
              "<Figure size 432x288 with 1 Axes>"
            ]
          },
          "metadata": {
            "tags": []
          }
        }
      ]
    },
    {
      "cell_type": "code",
      "metadata": {
        "id": "GW92WbSue5Be",
        "colab_type": "code",
        "outputId": "a558d645-58bc-42ed-8a05-5823a7f61152",
        "colab": {
          "base_uri": "https://localhost:8080/",
          "height": 300
        }
      },
      "source": [
        "# Plot: violinplot, alternativa mais intuitiva ao boxplot\n",
        "sns.violinplot(x='Species',y='petal length (cm)',data=data,size=6)"
      ],
      "execution_count": 0,
      "outputs": [
        {
          "output_type": "execute_result",
          "data": {
            "text/plain": [
              "<matplotlib.axes._subplots.AxesSubplot at 0x7fee3f19f630>"
            ]
          },
          "metadata": {
            "tags": []
          },
          "execution_count": 24
        },
        {
          "output_type": "display_data",
          "data": {
            "image/png": "[encoded data removed]",
            "text/plain": [
              "<Figure size 432x288 with 1 Axes>"
            ]
          },
          "metadata": {
            "tags": []
          }
        }
      ]
    },
    {
      "cell_type": "markdown",
      "metadata": {
        "id": "WcSKBkYEdROv",
        "colab_type": "text"
      },
      "source": [
        "## Correlação\n",
        "\n",
        "- É a medida de como as coisas estão relacionadas\n",
        "\n",
        "![alt text](https://www.statisticshowto.datasciencecentral.com/wp-content/uploads/2012/10/pearson-2-small.png)"
      ]
    },
    {
      "cell_type": "code",
      "metadata": {
        "id": "XcP--8iyfDYl",
        "colab_type": "code",
        "outputId": "48b49ca9-4110-473f-c2b5-d9e9812c80cd",
        "colab": {
          "base_uri": "https://localhost:8080/",
          "height": 926
        }
      },
      "source": [
        "sns.pairplot(data,hue='Species')"
      ],
      "execution_count": 0,
      "outputs": [
        {
          "output_type": "execute_result",
          "data": {
            "text/plain": [
              "<seaborn.axisgrid.PairGrid at 0x7fee3f17a048>"
            ]
          },
          "metadata": {
            "tags": []
          },
          "execution_count": 26
        },
        {
          "output_type": "display_data",
          "data": {
            "image/png": "[encoded data removed]",
            "text/plain": [
              "<Figure size 946.375x900 with 30 Axes>"
            ]
          },
          "metadata": {
            "tags": []
          }
        }
      ]
    },
    {
      "cell_type": "code",
      "metadata": {
        "id": "6_kW8jo4fkOO",
        "colab_type": "code",
        "outputId": "8b4d0ba4-62f6-40c0-fb3b-6c58c394ea01",
        "colab": {
          "base_uri": "https://localhost:8080/",
          "height": 364
        }
      },
      "source": [
        "# Plot: correlação entre as variáveis\n",
        "sns.heatmap(data.corr(), annot=True, linewidths=.5)"
      ],
      "execution_count": 0,
      "outputs": [
        {
          "output_type": "execute_result",
          "data": {
            "text/plain": [
              "<matplotlib.axes._subplots.AxesSubplot at 0x7fee3b7655c0>"
            ]
          },
          "metadata": {
            "tags": []
          },
          "execution_count": 42
        },
        {
          "output_type": "display_data",
          "data": {
            "image/png": "[encoded data removed]",
            "text/plain": [
              "<Figure size 432x288 with 2 Axes>"
            ]
          },
          "metadata": {
            "tags": []
          }
        }
      ]
    },
    {
      "cell_type": "markdown",
      "metadata": {
        "id": "zHPeaFITjyHe",
        "colab_type": "text"
      },
      "source": [
        "# KNN e Validação"
      ]
    },
    {
      "cell_type": "code",
      "metadata": {
        "id": "c8d9YEwxw2sq",
        "colab_type": "code",
        "colab": {}
      },
      "source": [
        "# Importa função para separar o dataset em treino e teste\n",
        "from sklearn.model_selection import train_test_split\n",
        "\n",
        "# Separa os dados de seus rótulos\n",
        "X = data[['sepal length (cm)', 'sepal width (cm)', 'petal length (cm)', 'petal width (cm)']]\n",
        "y = data['Species']\n",
        "\n",
        "# Separa o dataset em treino(80%) e teste(20%)\n",
        "X_train, X_test, y_train, y_test = train_test_split(X, y, test_size=0.2, random_state=4)"
      ],
      "execution_count": 0,
      "outputs": []
    },
    {
      "cell_type": "code",
      "metadata": {
        "id": "6otWu0QbyEQa",
        "colab_type": "code",
        "outputId": "7cf68705-b2c9-4222-a591-15e6cf0aa570",
        "colab": {
          "base_uri": "https://localhost:8080/",
          "height": 51
        }
      },
      "source": [
        "print(X_train.shape)\n",
        "print(X_test.shape)"
      ],
      "execution_count": 0,
      "outputs": [
        {
          "output_type": "stream",
          "text": [
            "(120, 4)\n",
            "(30, 4)\n"
          ],
          "name": "stdout"
        }
      ]
    },
    {
      "cell_type": "code",
      "metadata": {
        "id": "_q7uciI8yaD6",
        "colab_type": "code",
        "colab": {}
      },
      "source": [
        "# Importa o algoritmo KNN e a métrica de avaliação\n",
        "from sklearn.neighbors import KNeighborsClassifier\n",
        "from sklearn import metrics\n",
        "\n",
        "k_range = range(1, 80, 2)\n",
        "scores = {}\n",
        "scores_list = []"
      ],
      "execution_count": 0,
      "outputs": []
    },
    {
      "cell_type": "code",
      "metadata": {
        "id": "aNKCe-rczp0O",
        "colab_type": "code",
        "colab": {}
      },
      "source": [
        "# Treina e testa o algoritmo com alguns valores de K\n",
        "for k in k_range:\n",
        "  knn = KNeighborsClassifier(n_neighbors=k)\n",
        "  knn.fit(X_train, y_train)\n",
        "  y_pred = knn.predict(X_test)\n",
        "\n",
        "  accuracy = metrics.accuracy_score(y_test, y_pred)\n",
        "  scores[k] = accuracy\n",
        "  scores_list.append(accuracy)"
      ],
      "execution_count": 0,
      "outputs": []
    },
    {
      "cell_type": "code",
      "metadata": {
        "id": "G1Yo4ysc0KTL",
        "colab_type": "code",
        "outputId": "13501d25-486e-4301-e94e-5f41e472495d",
        "colab": {
          "base_uri": "https://localhost:8080/",
          "height": 286
        }
      },
      "source": [
        "# Plot: lineplot, mostra a relação entre o K escolhido e a acurácia obtida\n",
        "sns.lineplot(x=k_range, y=scores_list)"
      ],
      "execution_count": 0,
      "outputs": [
        {
          "output_type": "execute_result",
          "data": {
            "text/plain": [
              "<matplotlib.axes._subplots.AxesSubplot at 0x7fee3864d898>"
            ]
          },
          "metadata": {
            "tags": []
          },
          "execution_count": 76
        },
        {
          "output_type": "display_data",
          "data": {
            "image/png": "[encoded data removed]",
            "text/plain": [
              "<Figure size 432x288 with 1 Axes>"
            ]
          },
          "metadata": {
            "tags": []
          }
        }
      ]
    },
    {
      "cell_type": "code",
      "metadata": {
        "id": "5B-Wysxg1L2E",
        "colab_type": "code",
        "outputId": "dab2b4fc-140a-4ef8-d848-d88d70cb48e4",
        "colab": {
          "base_uri": "https://localhost:8080/",
          "height": 51
        }
      },
      "source": [
        "# Importa o cross-validation\n",
        "from sklearn.model_selection import cross_val_score\n",
        "\n",
        "knn_cv = KNeighborsClassifier(n_neighbors=3)\n",
        "\n",
        "cv_scores = cross_val_score(knn_cv, X, y, cv=3)\n",
        "\n",
        "print(cv_scores)\n",
        "print('cv_scores mean:{}'.format(np.mean(cv_scores)))"
      ],
      "execution_count": 0,
      "outputs": [
        {
          "output_type": "stream",
          "text": [
            "[0.98039216 0.96078431 1.        ]\n",
            "cv_scores mean:0.9803921568627452\n"
          ],
          "name": "stdout"
        }
      ]
    },
    {
      "cell_type": "markdown",
      "metadata": {
        "id": "JqDhZhtM5-Zg",
        "colab_type": "text"
      },
      "source": [
        "# Tratamento de Dados"
      ]
    },
    {
      "cell_type": "markdown",
      "metadata": {
        "id": "KhPNoez05eP9",
        "colab_type": "text"
      },
      "source": [
        "\n",
        "## Dados Faltantes\n",
        "\n",
        "- Identificar dados faltantes\n",
        "- Decidir abordagem para trata-los"
      ]
    },
    {
      "cell_type": "code",
      "metadata": {
        "id": "J_uJacyl6Ho8",
        "colab_type": "code",
        "outputId": "8e664fe6-2b91-416e-b49e-439a174e1990",
        "colab": {
          "base_uri": "https://localhost:8080/",
          "height": 67
        }
      },
      "source": [
        "import pandas as pd\n",
        "data = pd.read_csv(\"adult.data\", header=None, index_col=False, names =[\"age\", \"workclass\", \"fnlwgt\", \"education\", \"education-num\",\n",
        "                                          \"marital-status\", \"occupation\", \"relationship\",\n",
        "                                          \"race\", \"sex\", \"capital-gain\", \"capital-loss\",\n",
        "                                          \"hours-per-week\", \"native-country\"])\n",
        "\n",
        "\n",
        "\n",
        "# Missing data: workclass, occupation, native-country\n",
        "data['workclass'].unique()"
      ],
      "execution_count": 0,
      "outputs": [
        {
          "output_type": "execute_result",
          "data": {
            "text/plain": [
              "array([' State-gov', ' Self-emp-not-inc', ' Private', ' Federal-gov',\n",
              "       ' Local-gov', ' ?', ' Self-emp-inc', ' Without-pay',\n",
              "       ' Never-worked'], dtype=object)"
            ]
          },
          "metadata": {
            "tags": []
          },
          "execution_count": 39
        }
      ]
    },
    {
      "cell_type": "code",
      "metadata": {
        "id": "GcDg2d2MRkuS",
        "colab_type": "code",
        "outputId": "1d019b0a-f562-447e-fec1-dce9ce86c2d6",
        "colab": {
          "base_uri": "https://localhost:8080/",
          "height": 168
        }
      },
      "source": [
        "# Checando a frequência dos dados\n",
        "#data[\"workclass\"].value_counts()\n",
        "#data[\"workclass\"].value_counts().plot(kind='bar')\n",
        "\n",
        "# Mudando os dados faltantes\n",
        "data[data['workclass'] == ' ?'] = \" Private\"\n",
        "data.workclass.unique()\n",
        "data[\"workclass\"].value_counts()"
      ],
      "execution_count": 0,
      "outputs": [
        {
          "output_type": "execute_result",
          "data": {
            "text/plain": [
              " Private             24532\n",
              " Self-emp-not-inc     2541\n",
              " Local-gov            2093\n",
              " State-gov            1298\n",
              " Self-emp-inc         1116\n",
              " Federal-gov           960\n",
              " Without-pay            14\n",
              " Never-worked            7\n",
              "Name: workclass, dtype: int64"
            ]
          },
          "metadata": {
            "tags": []
          },
          "execution_count": 42
        }
      ]
    },
    {
      "cell_type": "markdown",
      "metadata": {
        "id": "gyzlNUR_6E8g",
        "colab_type": "text"
      },
      "source": [
        "## Dados Categóricos"
      ]
    },
    {
      "cell_type": "code",
      "metadata": {
        "id": "isCTfNoO6IbM",
        "colab_type": "code",
        "colab": {}
      },
      "source": [
        "# Escolher quais colunas serão transformadas pelos Encoders\n",
        "# Escolher quais Encoders utilizar: Label, One Hot ou Binary Encoder.\n",
        "\n",
        "# !pip install category_encoders\n",
        "\n",
        "import category_encoders as ce\n",
        "\n",
        "cols = ['workclass', 'education', 'marital-status', 'occupation', 'relationship', 'race', 'sex', 'native-country']\n",
        "\n",
        "one_hot_encoder = ce.OneHotEncoder(cols=cols, drop_invariant=True, use_cat_names=True)\n",
        "\n",
        "one_hot_encoder.fit(data)\n",
        "\n",
        "data_one_hot_encoded = one_hot_encoder.transform(data)\n",
        "\n",
        "# Exibir novo dataframe com novas colunas das variáveis categóricas:\n"
      ],
      "execution_count": 0,
      "outputs": []
    },
    {
      "cell_type": "markdown",
      "metadata": {
        "id": "Hb8pvc9c7EHK",
        "colab_type": "text"
      },
      "source": [
        "# Classes Desbalanceadas "
      ]
    },
    {
      "cell_type": "code",
      "metadata": {
        "id": "OCoJizsoLyEX",
        "colab_type": "code",
        "outputId": "ea507a4d-c5cc-4352-bfa8-95f4bbc28d93",
        "colab": {
          "base_uri": "https://localhost:8080/",
          "height": 122
        }
      },
      "source": [
        "import pandas as pd\n",
        "import numpy as np\n",
        "from google.colab import drive\n",
        "drive.mount('/content/gdrive')\n",
        "\n",
        "path = \"/content/gdrive/My Drive/DS Workshop/data/creditcard.csv\""
      ],
      "execution_count": 0,
      "outputs": [
        {
          "output_type": "stream",
          "text": [
            "Go to this URL in a browser: https://accounts.google.com/o/oauth2/auth?client_id=947318989803-6bn6qk8qdgf4n4g3pfee6491hc0brc4i.apps.googleusercontent.com&redirect_uri=urn%3Aietf%3Awg%3Aoauth%3A2.0%3Aoob&scope=email%20https%3A%2F%2Fwww.googleapis.com%2Fauth%2Fdocs.test%20https%3A%2F%2Fwww.googleapis.com%2Fauth%2Fdrive%20https%3A%2F%2Fwww.googleapis.com%2Fauth%2Fdrive.photos.readonly%20https%3A%2F%2Fwww.googleapis.com%2Fauth%2Fpeopleapi.readonly&response_type=code\n",
            "\n",
            "Enter your authorization code:\n",
            "··········\n",
            "Mounted at /content/gdrive\n"
          ],
          "name": "stdout"
        }
      ]
    },
    {
      "cell_type": "code",
      "metadata": {
        "id": "bmCLSP1_AV7g",
        "colab_type": "code",
        "colab": {}
      },
      "source": [
        "from sklearn.model_selection import train_test_split\n",
        "from sklearn.linear_model import LogisticRegression\n",
        "from sklearn.dummy import DummyClassifier\n",
        "from sklearn.metrics import accuracy_score, f1_score, confusion_matrix, recall_score"
      ],
      "execution_count": 0,
      "outputs": []
    },
    {
      "cell_type": "code",
      "metadata": {
        "id": "6phFqCwC-z5I",
        "colab_type": "code",
        "colab": {}
      },
      "source": [
        "# Ler o arquivo csv e cria o dataframe com os dados\n",
        "df = pd.read_csv(path)"
      ],
      "execution_count": 0,
      "outputs": []
    },
    {
      "cell_type": "code",
      "metadata": {
        "id": "lAHjw3xX--gI",
        "colab_type": "code",
        "outputId": "a404f34b-61b8-49c1-e387-0de06d4865df",
        "colab": {
          "base_uri": "https://localhost:8080/",
          "height": 68
        }
      },
      "source": [
        "# Conta quantas ocorrências para cada valor na coluna Class\n",
        "df.Class.value_counts()"
      ],
      "execution_count": 0,
      "outputs": [
        {
          "output_type": "execute_result",
          "data": {
            "text/plain": [
              "0    284315\n",
              "1       492\n",
              "Name: Class, dtype: int64"
            ]
          },
          "metadata": {
            "tags": []
          },
          "execution_count": 9
        }
      ]
    },
    {
      "cell_type": "code",
      "metadata": {
        "id": "fUp2kB6__uAi",
        "colab_type": "code",
        "outputId": "82fb91fe-cc79-4af6-a3ac-4a4923e6f2cb",
        "colab": {
          "base_uri": "https://localhost:8080/",
          "height": 300
        }
      },
      "source": [
        " # Plot: exibe graficamente a informação anterior\n",
        " sns.countplot(x=\"Class\", data=df)"
      ],
      "execution_count": 0,
      "outputs": [
        {
          "output_type": "execute_result",
          "data": {
            "text/plain": [
              "<matplotlib.axes._subplots.AxesSubplot at 0x7efeaa5fc278>"
            ]
          },
          "metadata": {
            "tags": []
          },
          "execution_count": 13
        },
        {
          "output_type": "display_data",
          "data": {
            "image/png": "[encoded data removed]",
            "text/plain": [
              "<Figure size 432x288 with 1 Axes>"
            ]
          },
          "metadata": {
            "tags": []
          }
        }
      ]
    },
    {
      "cell_type": "code",
      "metadata": {
        "id": "Strckl84AQ2Y",
        "colab_type": "code",
        "colab": {}
      },
      "source": [
        "y = df.Class\n",
        "X = df.drop('Class', axis=1)\n",
        "\n",
        "# Divide o dataset em treino e teste\n",
        "X_train, X_test, y_train, y_test = train_test_split(X, y, test_size=0.25, random_state=27)"
      ],
      "execution_count": 0,
      "outputs": []
    },
    {
      "cell_type": "code",
      "metadata": {
        "id": "fp08cET_Ach4",
        "colab_type": "code",
        "outputId": "9eb83825-9c16-4e71-d344-30560e789454",
        "colab": {
          "base_uri": "https://localhost:8080/",
          "height": 34
        }
      },
      "source": [
        "# Utilizando um classificador que faz previsões usando regras simples\n",
        "dummy = DummyClassifier(strategy='most_frequent').fit(X_train, y_train)\n",
        "dummy_pred = dummy.predict(X_test)\n",
        "\n",
        "# Acurácia no teste\n",
        "print('Test score: ', accuracy_score(y_test, dummy_pred))"
      ],
      "execution_count": 0,
      "outputs": [
        {
          "output_type": "stream",
          "text": [
            "Test score:  0.9981461194910255\n"
          ],
          "name": "stdout"
        }
      ]
    },
    {
      "cell_type": "code",
      "metadata": {
        "id": "s8658guVAnMQ",
        "colab_type": "code",
        "outputId": "6301f966-2555-432e-c63f-6b6fdc72a793",
        "colab": {
          "base_uri": "https://localhost:8080/",
          "height": 68
        }
      },
      "source": [
        "# Utilizando modelo de regressão logística\n",
        "lr = LogisticRegression(solver='liblinear').fit(X_train, y_train)\n",
        "lr_pred = lr.predict(X_test)\n",
        "\n",
        "# Acurácia no teste\n",
        "print('Teste acurácia: ', accuracy_score(y_test, lr_pred))\n",
        "print('Teste F1 Score: ', f1_score(y_test, lr_pred))\n",
        "print('Teste sensibilidade: ', recall_score(y_test, lr_pred))"
      ],
      "execution_count": 0,
      "outputs": [
        {
          "output_type": "stream",
          "text": [
            "Teste acurácia:  0.9991011488441336\n",
            "Teste F1 Score:  0.7090909090909092\n",
            "Teste sensibilidade:  0.5909090909090909\n"
          ],
          "name": "stdout"
        }
      ]
    },
    {
      "cell_type": "code",
      "metadata": {
        "id": "pU3wwttpA01o",
        "colab_type": "code",
        "outputId": "d0278620-b913-42fe-dea2-5dc38d86e41c",
        "colab": {
          "base_uri": "https://localhost:8080/",
          "height": 111
        }
      },
      "source": [
        "pd.DataFrame(confusion_matrix(y_test, lr_pred))"
      ],
      "execution_count": 0,
      "outputs": [
        {
          "output_type": "execute_result",
          "data": {
            "text/html": [
              "<div>\n",
              "<style scoped>\n",
              "    .dataframe tbody tr th:only-of-type {\n",
              "        vertical-align: middle;\n",
              "    }\n",
              "\n",
              "    .dataframe tbody tr th {\n",
              "        vertical-align: top;\n",
              "    }\n",
              "\n",
              "    .dataframe thead th {\n",
              "        text-align: right;\n",
              "    }\n",
              "</style>\n",
              "<table border=\"1\" class=\"dataframe\">\n",
              "  <thead>\n",
              "    <tr style=\"text-align: right;\">\n",
              "      <th></th>\n",
              "      <th>0</th>\n",
              "      <th>1</th>\n",
              "    </tr>\n",
              "  </thead>\n",
              "  <tbody>\n",
              "    <tr>\n",
              "      <th>0</th>\n",
              "      <td>71060</td>\n",
              "      <td>10</td>\n",
              "    </tr>\n",
              "    <tr>\n",
              "      <th>1</th>\n",
              "      <td>54</td>\n",
              "      <td>78</td>\n",
              "    </tr>\n",
              "  </tbody>\n",
              "</table>\n",
              "</div>"
            ],
            "text/plain": [
              "       0   1\n",
              "0  71060  10\n",
              "1     54  78"
            ]
          },
          "metadata": {
            "tags": []
          },
          "execution_count": 17
        }
      ]
    },
    {
      "cell_type": "code",
      "metadata": {
        "id": "ie9iYkVNA6N4",
        "colab_type": "code",
        "colab": {}
      },
      "source": [
        "from sklearn.ensemble import RandomForestClassifier"
      ],
      "execution_count": 0,
      "outputs": []
    },
    {
      "cell_type": "code",
      "metadata": {
        "id": "y-oHA2oDA9mV",
        "colab_type": "code",
        "outputId": "65c39a31-425d-455b-c683-28ceb17ea0a5",
        "colab": {
          "base_uri": "https://localhost:8080/",
          "height": 68
        }
      },
      "source": [
        "# Utilizando um modelo mais complexo\n",
        "rfc = RandomForestClassifier(n_estimators=10).fit(X_train, y_train)\n",
        "rfc_pred = rfc.predict(X_test)\n",
        "\n",
        "print('Teste acurácia: ', accuracy_score(y_test, rfc_pred))\n",
        "print('Teste F1 Score: ', f1_score(y_test, rfc_pred))\n",
        "print('Teste sensibilidade: ', recall_score(y_test, rfc_pred))"
      ],
      "execution_count": 0,
      "outputs": [
        {
          "output_type": "stream",
          "text": [
            "Teste acurácia:  0.9995365298727564\n",
            "Teste F1 Score:  0.8595744680851064\n",
            "Teste sensibilidade:  0.7651515151515151\n"
          ],
          "name": "stdout"
        }
      ]
    },
    {
      "cell_type": "code",
      "metadata": {
        "id": "x6S1QjQNBBx4",
        "colab_type": "code",
        "outputId": "440ff2b2-9f63-4eeb-e4bd-ced6130f3d55",
        "colab": {
          "base_uri": "https://localhost:8080/",
          "height": 111
        }
      },
      "source": [
        "pd.DataFrame(confusion_matrix(y_test, rfc_pred))"
      ],
      "execution_count": 0,
      "outputs": [
        {
          "output_type": "execute_result",
          "data": {
            "text/html": [
              "<div>\n",
              "<style scoped>\n",
              "    .dataframe tbody tr th:only-of-type {\n",
              "        vertical-align: middle;\n",
              "    }\n",
              "\n",
              "    .dataframe tbody tr th {\n",
              "        vertical-align: top;\n",
              "    }\n",
              "\n",
              "    .dataframe thead th {\n",
              "        text-align: right;\n",
              "    }\n",
              "</style>\n",
              "<table border=\"1\" class=\"dataframe\">\n",
              "  <thead>\n",
              "    <tr style=\"text-align: right;\">\n",
              "      <th></th>\n",
              "      <th>0</th>\n",
              "      <th>1</th>\n",
              "    </tr>\n",
              "  </thead>\n",
              "  <tbody>\n",
              "    <tr>\n",
              "      <th>0</th>\n",
              "      <td>71068</td>\n",
              "      <td>2</td>\n",
              "    </tr>\n",
              "    <tr>\n",
              "      <th>1</th>\n",
              "      <td>31</td>\n",
              "      <td>101</td>\n",
              "    </tr>\n",
              "  </tbody>\n",
              "</table>\n",
              "</div>"
            ],
            "text/plain": [
              "       0    1\n",
              "0  71068    2\n",
              "1     31  101"
            ]
          },
          "metadata": {
            "tags": []
          },
          "execution_count": 20
        }
      ]
    },
    {
      "cell_type": "markdown",
      "metadata": {
        "id": "n8Qgp_W_IeQ1",
        "colab_type": "text"
      },
      "source": [
        "## Reamostragem"
      ]
    },
    {
      "cell_type": "markdown",
      "metadata": {
        "id": "FMl-I0s0Ii0A",
        "colab_type": "text"
      },
      "source": [
        "### Oversample"
      ]
    },
    {
      "cell_type": "code",
      "metadata": {
        "id": "ukCeWLOjBIq3",
        "colab_type": "code",
        "colab": {}
      },
      "source": [
        "from sklearn.utils import resample"
      ],
      "execution_count": 0,
      "outputs": []
    },
    {
      "cell_type": "code",
      "metadata": {
        "id": "nH5Q6IANBXoQ",
        "colab_type": "code",
        "colab": {}
      },
      "source": [
        "# Divide o dataset em treino e teste\n",
        "y = df.Class\n",
        "X = df.drop('Class', axis=1)\n",
        "X_train, X_test, y_train, y_test = train_test_split(X, y, test_size=0.25, random_state=27)\n",
        "\n",
        "# Junta novamente os dados de treino com seus rótulos\n",
        "X = pd.concat([X_train, y_train], axis=1)"
      ],
      "execution_count": 0,
      "outputs": []
    },
    {
      "cell_type": "code",
      "metadata": {
        "id": "-IsMhbVkBaGI",
        "colab_type": "code",
        "outputId": "748826bf-eab7-4701-b3b2-f8bc8366fe99",
        "colab": {
          "base_uri": "https://localhost:8080/",
          "height": 68
        }
      },
      "source": [
        "# Separa o dataset de treino de acordo com as classes\n",
        "not_fraud = X[X.Class==0]\n",
        "fraud = X[X.Class==1]\n",
        "\n",
        "# Aplica a técnica de oversample\n",
        "fraud_upsampled = resample(fraud, replace=True, \n",
        "                          n_samples=len(not_fraud), # especifica a quantidade de amostras\n",
        "                          random_state=27) \n",
        "\n",
        "# Combina novamente as duas classes em um único dataset de treino\n",
        "upsampled = pd.concat([not_fraud, fraud_upsampled])\n",
        "\n",
        "upsampled.Class.value_counts()"
      ],
      "execution_count": 0,
      "outputs": [
        {
          "output_type": "execute_result",
          "data": {
            "text/plain": [
              "1    213245\n",
              "0    213245\n",
              "Name: Class, dtype: int64"
            ]
          },
          "metadata": {
            "tags": []
          },
          "execution_count": 23
        }
      ]
    },
    {
      "cell_type": "code",
      "metadata": {
        "id": "vMGoDPQnBeTh",
        "colab_type": "code",
        "outputId": "f055ff52-d47e-46ec-d5db-46e6447aa4a4",
        "colab": {
          "base_uri": "https://localhost:8080/",
          "height": 68
        }
      },
      "source": [
        "# Separa os dados dos rótulos e treina o modelo\n",
        "y_train = upsampled.Class\n",
        "X_train = upsampled.drop('Class', axis=1)\n",
        "\n",
        "upsampled = LogisticRegression(solver='liblinear').fit(X_train, y_train)\n",
        "\n",
        "upsampled_pred = upsampled.predict(X_test)\n",
        "\n",
        "print('Teste acurácia: ', accuracy_score(y_test, upsampled_pred))\n",
        "print('Teste F1 Score: ', f1_score(y_test, upsampled_pred))\n",
        "print('Teste sensibilidade: ', recall_score(y_test, upsampled_pred))"
      ],
      "execution_count": 0,
      "outputs": [
        {
          "output_type": "stream",
          "text": [
            "Teste acurácia:  0.9807589674447347\n",
            "Teste F1 Score:  0.14375000000000002\n",
            "Teste sensibilidade:  0.8712121212121212\n"
          ],
          "name": "stdout"
        }
      ]
    },
    {
      "cell_type": "code",
      "metadata": {
        "id": "lexr9VikBih5",
        "colab_type": "code",
        "outputId": "ba6d58f2-a6cc-4994-9069-c762a8e65b30",
        "colab": {
          "base_uri": "https://localhost:8080/",
          "height": 111
        }
      },
      "source": [
        "pd.DataFrame(confusion_matrix(y_test, upsampled_pred))"
      ],
      "execution_count": 0,
      "outputs": [
        {
          "output_type": "execute_result",
          "data": {
            "text/html": [
              "<div>\n",
              "<style scoped>\n",
              "    .dataframe tbody tr th:only-of-type {\n",
              "        vertical-align: middle;\n",
              "    }\n",
              "\n",
              "    .dataframe tbody tr th {\n",
              "        vertical-align: top;\n",
              "    }\n",
              "\n",
              "    .dataframe thead th {\n",
              "        text-align: right;\n",
              "    }\n",
              "</style>\n",
              "<table border=\"1\" class=\"dataframe\">\n",
              "  <thead>\n",
              "    <tr style=\"text-align: right;\">\n",
              "      <th></th>\n",
              "      <th>0</th>\n",
              "      <th>1</th>\n",
              "    </tr>\n",
              "  </thead>\n",
              "  <tbody>\n",
              "    <tr>\n",
              "      <th>0</th>\n",
              "      <td>69717</td>\n",
              "      <td>1353</td>\n",
              "    </tr>\n",
              "    <tr>\n",
              "      <th>1</th>\n",
              "      <td>17</td>\n",
              "      <td>115</td>\n",
              "    </tr>\n",
              "  </tbody>\n",
              "</table>\n",
              "</div>"
            ],
            "text/plain": [
              "       0     1\n",
              "0  69717  1353\n",
              "1     17   115"
            ]
          },
          "metadata": {
            "tags": []
          },
          "execution_count": 25
        }
      ]
    },
    {
      "cell_type": "markdown",
      "metadata": {
        "id": "MzHdw0r6Bvhy",
        "colab_type": "text"
      },
      "source": [
        "### Undersample"
      ]
    },
    {
      "cell_type": "code",
      "metadata": {
        "id": "m2CIxsIMBwF6",
        "colab_type": "code",
        "outputId": "bee788ca-4a72-423a-e6bc-61d5fdd450ba",
        "colab": {
          "base_uri": "https://localhost:8080/",
          "height": 68
        }
      },
      "source": [
        "# Utilizando os dados já separados por classes\n",
        "\n",
        "# Aplicando o undersample para reduzir o número de elemntos da classe majoritária\n",
        "not_fraud_downsampled = resample(not_fraud,\n",
        "                                replace = False, # não permite a substituição\n",
        "                                n_samples = len(fraud), # especifica a quantidade de amostras\n",
        "                                random_state = 27)\n",
        "\n",
        "# Combina novamente as duas classes em um único dataset de treino\n",
        "downsampled = pd.concat([not_fraud_downsampled, fraud])\n",
        "\n",
        "downsampled.Class.value_counts()"
      ],
      "execution_count": 0,
      "outputs": [
        {
          "output_type": "execute_result",
          "data": {
            "text/plain": [
              "1    360\n",
              "0    360\n",
              "Name: Class, dtype: int64"
            ]
          },
          "metadata": {
            "tags": []
          },
          "execution_count": 26
        }
      ]
    },
    {
      "cell_type": "code",
      "metadata": {
        "id": "ZK7FKFGvB1Vg",
        "colab_type": "code",
        "outputId": "b23210a4-e25f-49da-acfa-5bdee428f952",
        "colab": {
          "base_uri": "https://localhost:8080/",
          "height": 68
        }
      },
      "source": [
        "# Treina novamente o modelo de regressão, agora após a aplicação do undersample\n",
        "\n",
        "y_train = downsampled.Class\n",
        "X_train = downsampled.drop('Class', axis=1)\n",
        "\n",
        "undersampled = LogisticRegression(solver='liblinear').fit(X_train, y_train)\n",
        "\n",
        "undersampled_pred = undersampled.predict(X_test)\n",
        "\n",
        "print('Teste acurácia: ', accuracy_score(y_test, undersampled_pred))\n",
        "print('Teste F1 Score: ', f1_score(y_test, undersampled_pred))\n",
        "print('Teste sensibilidade: ', recall_score(y_test, undersampled_pred))"
      ],
      "execution_count": 0,
      "outputs": [
        {
          "output_type": "stream",
          "text": [
            "Teste acurácia:  0.9758574197354007\n",
            "Teste F1 Score:  0.11710323574730355\n",
            "Teste sensibilidade:  0.8636363636363636\n"
          ],
          "name": "stdout"
        }
      ]
    },
    {
      "cell_type": "code",
      "metadata": {
        "id": "N7mbhLkUB5Uf",
        "colab_type": "code",
        "outputId": "24030d54-1b47-4400-8bf3-0c71484cc84a",
        "colab": {
          "base_uri": "https://localhost:8080/",
          "height": 111
        }
      },
      "source": [
        "pd.DataFrame(confusion_matrix(y_test, undersampled_pred))"
      ],
      "execution_count": 0,
      "outputs": [
        {
          "output_type": "execute_result",
          "data": {
            "text/html": [
              "<div>\n",
              "<style scoped>\n",
              "    .dataframe tbody tr th:only-of-type {\n",
              "        vertical-align: middle;\n",
              "    }\n",
              "\n",
              "    .dataframe tbody tr th {\n",
              "        vertical-align: top;\n",
              "    }\n",
              "\n",
              "    .dataframe thead th {\n",
              "        text-align: right;\n",
              "    }\n",
              "</style>\n",
              "<table border=\"1\" class=\"dataframe\">\n",
              "  <thead>\n",
              "    <tr style=\"text-align: right;\">\n",
              "      <th></th>\n",
              "      <th>0</th>\n",
              "      <th>1</th>\n",
              "    </tr>\n",
              "  </thead>\n",
              "  <tbody>\n",
              "    <tr>\n",
              "      <th>0</th>\n",
              "      <td>69369</td>\n",
              "      <td>1701</td>\n",
              "    </tr>\n",
              "    <tr>\n",
              "      <th>1</th>\n",
              "      <td>18</td>\n",
              "      <td>114</td>\n",
              "    </tr>\n",
              "  </tbody>\n",
              "</table>\n",
              "</div>"
            ],
            "text/plain": [
              "       0     1\n",
              "0  69369  1701\n",
              "1     18   114"
            ]
          },
          "metadata": {
            "tags": []
          },
          "execution_count": 28
        }
      ]
    },
    {
      "cell_type": "markdown",
      "metadata": {
        "id": "9MdojJaiK-wD",
        "colab_type": "text"
      },
      "source": [
        "### Amostras sintéticas"
      ]
    },
    {
      "cell_type": "code",
      "metadata": {
        "id": "-GdpsqjGB_kY",
        "colab_type": "code",
        "colab": {}
      },
      "source": [
        "# Importa a biblioteca necessária para a aplicação da técnica\n",
        "from imblearn.over_sampling import SMOTE\n",
        "\n",
        "# Divide o dataset em treino e teste\n",
        "y = df.Class\n",
        "X = df.drop('Class', axis=1)\n",
        "\n",
        "X_train, X_test, y_train, y_test = train_test_split(X, y, test_size=0.25, random_state=27)\n",
        "\n",
        "# Gera as amostras sintéticas e inclui no dataset\n",
        "sm = SMOTE(random_state=27, ratio=1.0)\n",
        "X_train, y_train = sm.fit_sample(X_train, y_train)"
      ],
      "execution_count": 0,
      "outputs": []
    },
    {
      "cell_type": "code",
      "metadata": {
        "id": "_PM3DnPFCBD3",
        "colab_type": "code",
        "outputId": "676e9525-3279-4fa8-b0f6-cf5736b7a05a",
        "colab": {
          "base_uri": "https://localhost:8080/",
          "height": 68
        }
      },
      "source": [
        "# Utiliza o dataset, agora com dados sintéticos para treinar o modelo de regressão\n",
        "smote = LogisticRegression(solver='liblinear').fit(X_train, y_train)\n",
        "smote_pred = smote.predict(X_test)\n",
        "\n",
        "\n",
        "print('Teste acurácia: ', accuracy_score(y_test, smote_pred))\n",
        "print('Teste F1 Score: ', f1_score(y_test, smote_pred))\n",
        "print('Teste sensibilidade: ', recall_score(y_test, smote_pred))"
      ],
      "execution_count": 0,
      "outputs": [
        {
          "output_type": "stream",
          "text": [
            "Teste acurácia:  0.9858571388444145\n",
            "Teste F1 Score:  0.18461538461538463\n",
            "Teste sensibilidade:  0.8636363636363636\n"
          ],
          "name": "stdout"
        }
      ]
    },
    {
      "cell_type": "code",
      "metadata": {
        "id": "COymmoBxCEn_",
        "colab_type": "code",
        "outputId": "8cdb9442-39c6-45a5-c209-a94e74e33219",
        "colab": {
          "base_uri": "https://localhost:8080/",
          "height": 111
        }
      },
      "source": [
        "pd.DataFrame(confusion_matrix(y_test, smote_pred))"
      ],
      "execution_count": 0,
      "outputs": [
        {
          "output_type": "execute_result",
          "data": {
            "text/html": [
              "<div>\n",
              "<style scoped>\n",
              "    .dataframe tbody tr th:only-of-type {\n",
              "        vertical-align: middle;\n",
              "    }\n",
              "\n",
              "    .dataframe tbody tr th {\n",
              "        vertical-align: top;\n",
              "    }\n",
              "\n",
              "    .dataframe thead th {\n",
              "        text-align: right;\n",
              "    }\n",
              "</style>\n",
              "<table border=\"1\" class=\"dataframe\">\n",
              "  <thead>\n",
              "    <tr style=\"text-align: right;\">\n",
              "      <th></th>\n",
              "      <th>0</th>\n",
              "      <th>1</th>\n",
              "    </tr>\n",
              "  </thead>\n",
              "  <tbody>\n",
              "    <tr>\n",
              "      <th>0</th>\n",
              "      <td>70081</td>\n",
              "      <td>989</td>\n",
              "    </tr>\n",
              "    <tr>\n",
              "      <th>1</th>\n",
              "      <td>18</td>\n",
              "      <td>114</td>\n",
              "    </tr>\n",
              "  </tbody>\n",
              "</table>\n",
              "</div>"
            ],
            "text/plain": [
              "       0    1\n",
              "0  70081  989\n",
              "1     18  114"
            ]
          },
          "metadata": {
            "tags": []
          },
          "execution_count": 31
        }
      ]
    }
  ]
}